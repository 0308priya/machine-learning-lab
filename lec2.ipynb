{
  "nbformat": 4,
  "nbformat_minor": 0,
  "metadata": {
    "colab": {
      "provenance": [],
      "authorship_tag": "ABX9TyOJPCbMnaXR73tdQ/0gHjWz",
      "include_colab_link": true
    },
    "kernelspec": {
      "name": "python3",
      "display_name": "Python 3"
    },
    "language_info": {
      "name": "python"
    }
  },
  "cells": [
    {
      "cell_type": "markdown",
      "metadata": {
        "id": "view-in-github",
        "colab_type": "text"
      },
      "source": [
        "<a href=\"https://colab.research.google.com/github/0308priya/machine-learning-lab/blob/main/lec2.ipynb\" target=\"_parent\"><img src=\"https://colab.research.google.com/assets/colab-badge.svg\" alt=\"Open In Colab\"/></a>"
      ]
    },
    {
      "cell_type": "code",
      "execution_count": 1,
      "metadata": {
        "colab": {
          "base_uri": "https://localhost:8080/"
        },
        "id": "31ojEB2BFRiT",
        "outputId": "69ab3d7f-cd8c-4358-b4de-fbedb16e09d6"
      },
      "outputs": [
        {
          "output_type": "stream",
          "name": "stdout",
          "text": [
            "Enter a single letter: A\n",
            "'A' is a vowel.\n"
          ]
        }
      ],
      "source": [
        "# Ask the user to enter a single character\n",
        "char = input(\"Enter a single letter: \")\n",
        "\n",
        "# Check if input is a single alphabetic character\n",
        "if len(char) == 1 and char.isalpha():\n",
        "    # Convert to lowercase for easier comparison\n",
        "    char_lower = char.lower()\n",
        "\n",
        "    # Check if the character is a vowel\n",
        "    if char_lower in 'aeiou':\n",
        "        print(f\"'{char}' is a vowel.\")\n",
        "    else:\n",
        "        print(f\"'{char}' is a consonant.\")\n",
        "else:\n",
        "    print(\"Invalid input. Please enter a single letter.\")"
      ]
    }
  ]
}