{
  "nbformat": 4,
  "nbformat_minor": 0,
  "metadata": {
    "colab": {
      "provenance": [],
      "authorship_tag": "ABX9TyNir5RnAAz5jOelL+I5pHwo",
      "include_colab_link": true
    },
    "kernelspec": {
      "name": "python3",
      "display_name": "Python 3"
    },
    "language_info": {
      "name": "python"
    }
  },
  "cells": [
    {
      "cell_type": "markdown",
      "metadata": {
        "id": "view-in-github",
        "colab_type": "text"
      },
      "source": [
        "<a href=\"https://colab.research.google.com/github/0308priya/machine-learning-lab/blob/main/lec10.ipynb\" target=\"_parent\"><img src=\"https://colab.research.google.com/assets/colab-badge.svg\" alt=\"Open In Colab\"/></a>"
      ]
    },
    {
      "cell_type": "code",
      "execution_count": 5,
      "metadata": {
        "colab": {
          "base_uri": "https://localhost:8080/"
        },
        "id": "1aF6miDDMQjU",
        "outputId": "dacffe0e-de7b-4edb-f95c-7d9ecbd1d1cb"
      },
      "outputs": [
        {
          "output_type": "stream",
          "name": "stdout",
          "text": [
            "ID: 67342 Result: 3.76\n",
            "I am the Processing Function\n"
          ]
        }
      ],
      "source": [
        "class Student:  # Class name usually capitalized by convention\n",
        "    # Properties (class attributes)\n",
        "    name = \"Mr. X\"\n",
        "    dept = \"CSE\"\n",
        "    id = 67342\n",
        "    result = 3.76\n",
        "\n",
        "    def process(self):\n",
        "        print(\"I am the Processing Function\")\n",
        "\n",
        "# Create an object of the class Student\n",
        "obj = Student()\n",
        "\n",
        "# Access properties\n",
        "print(\"ID:\", obj.id, \"Result:\", obj.result)\n",
        "\n",
        "# Call method\n",
        "obj.process()\n"
      ]
    }
  ]
}