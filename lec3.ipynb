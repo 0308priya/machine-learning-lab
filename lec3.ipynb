{
  "nbformat": 4,
  "nbformat_minor": 0,
  "metadata": {
    "colab": {
      "provenance": [],
      "authorship_tag": "ABX9TyMAtfXcLpSVnINhZMtE9qFO",
      "include_colab_link": true
    },
    "kernelspec": {
      "name": "python3",
      "display_name": "Python 3"
    },
    "language_info": {
      "name": "python"
    }
  },
  "cells": [
    {
      "cell_type": "markdown",
      "metadata": {
        "id": "view-in-github",
        "colab_type": "text"
      },
      "source": [
        "<a href=\"https://colab.research.google.com/github/0308priya/machine-learning-lab/blob/main/lec3.ipynb\" target=\"_parent\"><img src=\"https://colab.research.google.com/assets/colab-badge.svg\" alt=\"Open In Colab\"/></a>"
      ]
    },
    {
      "cell_type": "code",
      "execution_count": 1,
      "metadata": {
        "colab": {
          "base_uri": "https://localhost:8080/"
        },
        "id": "wuY0QOWDGVm2",
        "outputId": "40550bd4-4b9f-4916-bd2c-c17439763ddc"
      },
      "outputs": [
        {
          "output_type": "stream",
          "name": "stdout",
          "text": [
            "Sum of even numbers from 1 to 100 using for loop is: 2550\n"
          ]
        }
      ],
      "source": [
        "# Initialize sum\n",
        "total = 0\n",
        "\n",
        "# Loop from 1 to 100\n",
        "for number in range(1, 101):\n",
        "    if number % 2 == 0:\n",
        "        total += number\n",
        "\n",
        "# Print the result\n",
        "print(\"Sum of even numbers from 1 to 100 using for loop is:\", total)\n"
      ]
    }
  ]
}