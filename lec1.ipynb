{
  "nbformat": 4,
  "nbformat_minor": 0,
  "metadata": {
    "colab": {
      "provenance": [],
      "authorship_tag": "ABX9TyPgJuTOe4s5YH0aZHpU4gSu",
      "include_colab_link": true
    },
    "kernelspec": {
      "name": "python3",
      "display_name": "Python 3"
    },
    "language_info": {
      "name": "python"
    }
  },
  "cells": [
    {
      "cell_type": "markdown",
      "metadata": {
        "id": "view-in-github",
        "colab_type": "text"
      },
      "source": [
        "<a href=\"https://colab.research.google.com/github/0308priya/machine-learning-lab/blob/main/lec1.ipynb\" target=\"_parent\"><img src=\"https://colab.research.google.com/assets/colab-badge.svg\" alt=\"Open In Colab\"/></a>"
      ]
    },
    {
      "cell_type": "code",
      "execution_count": 3,
      "metadata": {
        "colab": {
          "base_uri": "https://localhost:8080/"
        },
        "id": "Txah4QaABwqa",
        "outputId": "6ea4951b-ed4b-4b2a-8e2f-93a1d00aa939"
      },
      "outputs": [
        {
          "output_type": "stream",
          "name": "stdout",
          "text": [
            "A = 500\n",
            "B = 550.25\n",
            "C = CSE\n"
          ]
        }
      ],
      "source": [
        "A,B,C = 500, 550.25 , 'CSE'\n",
        "print (\"A =\" ,A)\n",
        "print (\"B =\" , B)\n",
        "print (\"C =\" ,C)"
      ]
    }
  ]
}