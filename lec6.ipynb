{
  "nbformat": 4,
  "nbformat_minor": 0,
  "metadata": {
    "colab": {
      "provenance": [],
      "authorship_tag": "ABX9TyPVJoGMpoOovGglcbBSsgAr",
      "include_colab_link": true
    },
    "kernelspec": {
      "name": "python3",
      "display_name": "Python 3"
    },
    "language_info": {
      "name": "python"
    }
  },
  "cells": [
    {
      "cell_type": "markdown",
      "metadata": {
        "id": "view-in-github",
        "colab_type": "text"
      },
      "source": [
        "<a href=\"https://colab.research.google.com/github/0308priya/machine-learning-lab/blob/main/lec6.ipynb\" target=\"_parent\"><img src=\"https://colab.research.google.com/assets/colab-badge.svg\" alt=\"Open In Colab\"/></a>"
      ]
    },
    {
      "cell_type": "code",
      "execution_count": 1,
      "metadata": {
        "colab": {
          "base_uri": "https://localhost:8080/"
        },
        "id": "doftKv-dIksW",
        "outputId": "5c16572d-da67-4e06-f99f-be99c4fdbb80"
      },
      "outputs": [
        {
          "output_type": "stream",
          "name": "stdout",
          "text": [
            "Enter a decimal number: 9\n",
            "Binary representation of 9 is: 1001\n"
          ]
        }
      ],
      "source": [
        "def decimal_to_binary(number):\n",
        "    if number == 0:\n",
        "        return \"0\"\n",
        "    binary = \"\"\n",
        "    while number > 0:\n",
        "        binary = str(number % 2) + binary\n",
        "        number = number // 2\n",
        "    return binary\n",
        "\n",
        "# Example usage\n",
        "num = int(input(\"Enter a decimal number: \"))\n",
        "binary_rep = decimal_to_binary(num)\n",
        "print(f\"Binary representation of {num} is: {binary_rep}\")\n"
      ]
    }
  ]
}