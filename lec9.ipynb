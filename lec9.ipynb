{
  "nbformat": 4,
  "nbformat_minor": 0,
  "metadata": {
    "colab": {
      "provenance": [],
      "authorship_tag": "ABX9TyMXW4Hz11/68yx7Z7eWDgZs",
      "include_colab_link": true
    },
    "kernelspec": {
      "name": "python3",
      "display_name": "Python 3"
    },
    "language_info": {
      "name": "python"
    }
  },
  "cells": [
    {
      "cell_type": "markdown",
      "metadata": {
        "id": "view-in-github",
        "colab_type": "text"
      },
      "source": [
        "<a href=\"https://colab.research.google.com/github/0308priya/machine-learning-lab/blob/main/lec9.ipynb\" target=\"_parent\"><img src=\"https://colab.research.google.com/assets/colab-badge.svg\" alt=\"Open In Colab\"/></a>"
      ]
    },
    {
      "cell_type": "code",
      "execution_count": 1,
      "metadata": {
        "colab": {
          "base_uri": "https://localhost:8080/"
        },
        "id": "8rC4ehWcLtaO",
        "outputId": "7bdbc1bc-48e3-4b9f-e043-89f1d0d3700c"
      },
      "outputs": [
        {
          "output_type": "stream",
          "name": "stdout",
          "text": [
            "Unique elements in the list: [1, 5, 6]\n"
          ]
        }
      ],
      "source": [
        "def find_unique_elements(lst):\n",
        "    unique_elements = []\n",
        "    for item in lst:\n",
        "        if lst.count(item) == 1:\n",
        "            unique_elements.append(item)\n",
        "    return unique_elements\n",
        "\n",
        "# Example usage\n",
        "my_list = [1, 2, 2, 3, 4, 4, 5, 6, 3]\n",
        "unique = find_unique_elements(my_list)\n",
        "print(\"Unique elements in the list:\", unique)\n"
      ]
    }
  ]
}