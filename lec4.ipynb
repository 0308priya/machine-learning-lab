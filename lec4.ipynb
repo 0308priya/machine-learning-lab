{
  "nbformat": 4,
  "nbformat_minor": 0,
  "metadata": {
    "colab": {
      "provenance": [],
      "authorship_tag": "ABX9TyMunVqR3W3xhYf/ATuzIFyj",
      "include_colab_link": true
    },
    "kernelspec": {
      "name": "python3",
      "display_name": "Python 3"
    },
    "language_info": {
      "name": "python"
    }
  },
  "cells": [
    {
      "cell_type": "markdown",
      "metadata": {
        "id": "view-in-github",
        "colab_type": "text"
      },
      "source": [
        "<a href=\"https://colab.research.google.com/github/0308priya/machine-learning-lab/blob/main/lec4.ipynb\" target=\"_parent\"><img src=\"https://colab.research.google.com/assets/colab-badge.svg\" alt=\"Open In Colab\"/></a>"
      ]
    },
    {
      "cell_type": "code",
      "execution_count": 1,
      "metadata": {
        "colab": {
          "base_uri": "https://localhost:8080/"
        },
        "id": "tmAN8VdqHFcZ",
        "outputId": "9c66c16d-3ef3-458f-b547-f4bd836d84b1"
      },
      "outputs": [
        {
          "output_type": "stream",
          "name": "stdout",
          "text": [
            "Original list: [5, 8, 2, 10, 3, 7, 6, 12, 1, 4]\n",
            "After appending 15: [5, 8, 2, 10, 3, 7, 6, 12, 1, 4, 15]\n",
            "After inserting 20 at index 3: [5, 8, 2, 20, 10, 3, 7, 6, 12, 1, 4, 15]\n",
            "After removing 10: [5, 8, 2, 20, 3, 7, 6, 12, 1, 4, 15]\n",
            "After popping element at index 5 (value was 7): [5, 8, 2, 20, 3, 6, 12, 1, 4, 15]\n"
          ]
        }
      ],
      "source": [
        "# Step 1: Create a list of 10 integers\n",
        "numbers = [5, 8, 2, 10, 3, 7, 6, 12, 1, 4]\n",
        "print(\"Original list:\", numbers)\n",
        "\n",
        "# Step 2: Append an element to the list\n",
        "numbers.append(15)\n",
        "print(\"After appending 15:\", numbers)\n",
        "\n",
        "# Step 3: Insert an element at a specific position (e.g., insert 20 at index 3)\n",
        "numbers.insert(3, 20)\n",
        "print(\"After inserting 20 at index 3:\", numbers)\n",
        "\n",
        "# Step 4: Remove an element from the list (e.g., remove the value 10)\n",
        "numbers.remove(10)\n",
        "print(\"After removing 10:\", numbers)\n",
        "\n",
        "# Step 5: Pop an element from a specific position (e.g., pop element at index 5)\n",
        "popped_element = numbers.pop(5)\n",
        "print(\"After popping element at index 5 (value was {}):\".format(popped_element), numbers)\n"
      ]
    }
  ]
}