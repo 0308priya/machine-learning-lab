{
  "nbformat": 4,
  "nbformat_minor": 0,
  "metadata": {
    "colab": {
      "provenance": [],
      "authorship_tag": "ABX9TyNdlr/3FF++00e0MC0vXEfc",
      "include_colab_link": true
    },
    "kernelspec": {
      "name": "python3",
      "display_name": "Python 3"
    },
    "language_info": {
      "name": "python"
    }
  },
  "cells": [
    {
      "cell_type": "markdown",
      "metadata": {
        "id": "view-in-github",
        "colab_type": "text"
      },
      "source": [
        "<a href=\"https://colab.research.google.com/github/0308priya/machine-learning-lab/blob/main/lec8.ipynb\" target=\"_parent\"><img src=\"https://colab.research.google.com/assets/colab-badge.svg\" alt=\"Open In Colab\"/></a>"
      ]
    },
    {
      "cell_type": "code",
      "execution_count": 1,
      "metadata": {
        "colab": {
          "base_uri": "https://localhost:8080/"
        },
        "id": "OE0gqatcKdfg",
        "outputId": "52025c97-fd50-4eb7-ee9d-e24b1eb79483"
      },
      "outputs": [
        {
          "output_type": "stream",
          "name": "stdout",
          "text": [
            "2 raised to the power of 3 is: 8\n"
          ]
        }
      ],
      "source": [
        "def power(x, n):\n",
        "    # Base case: x^0 is 1\n",
        "    if n == 0:\n",
        "        return 1\n",
        "    # Recursive case\n",
        "    return x * power(x, n - 1)\n",
        "\n",
        "# Example usage\n",
        "x = 2\n",
        "n = 3\n",
        "result = power(x, n)\n",
        "print(f\"{x} raised to the power of {n} is: {result}\")\n"
      ]
    }
  ]
}